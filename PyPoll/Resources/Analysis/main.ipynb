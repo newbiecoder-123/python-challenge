{
 "cells": [
  {
   "cell_type": "code",
   "execution_count": 1,
   "metadata": {},
   "outputs": [
    {
     "data": {
      "text/plain": [
       "'C:\\\\Users\\\\nghia\\\\python-challenge\\\\PyPoll\\\\Resources\\\\Analysis'"
      ]
     },
     "execution_count": 1,
     "metadata": {},
     "output_type": "execute_result"
    }
   ],
   "source": [
    "pwd"
   ]
  },
  {
   "cell_type": "code",
   "execution_count": 2,
   "metadata": {},
   "outputs": [
    {
     "data": {
      "text/plain": [
       "'..\\\\election_data.csv'"
      ]
     },
     "execution_count": 2,
     "metadata": {},
     "output_type": "execute_result"
    }
   ],
   "source": [
    "#import os and csv files\n",
    "import os\n",
    "import csv\n",
    "from collections import Counter\n",
    "\n",
    "poll_csvpath = os.path.join('..', 'election_data.csv')\n",
    "poll_csvpath"
   ]
  },
  {
   "cell_type": "code",
   "execution_count": 26,
   "metadata": {},
   "outputs": [
    {
     "name": "stdout",
     "output_type": "stream",
     "text": [
      "<_csv.reader object at 0x00000269ECE25208>\n",
      "CSV Header: ['Voter ID', 'County', 'Candidate']\n",
      "3521001\n"
     ]
    }
   ],
   "source": [
    "# create variable to contain all of the votes\n",
    "totalvotes = [] \n",
    "\n",
    "# create counters for each candidate\n",
    "khan = 0\n",
    "correy = 0\n",
    "li = 0\n",
    "otooley = 0\n",
    "\n",
    "#Open/read the csv file\n",
    "with open(poll_csvpath, newline='', encoding=\"utf-8\") as csvfile:\n",
    "    \n",
    "    #store as a csv\n",
    "    poll_csvfile = csv.reader(csvfile, delimiter=',')\n",
    "    \n",
    "    print(poll_csvfile)\n",
    "    \n",
    "    # read the header row first\n",
    "    poll_header = next(poll_csvfile)\n",
    "    print(f\"CSV Header: {poll_header}\")\n",
    "    \n",
    "    #loop through to find the candidates\n",
    "    for row in poll_csvfile:\n",
    "        \n",
    "        #count the number of votes\n",
    "        totalvotes.append(row[0])\n",
    "         \n",
    "        #count the number of votes per candidate, also calculate percentage of vote won per candidate    \n",
    "        if row[2] == \"Khan\":\n",
    "            khan = khan + 1\n",
    "            khan_percent_won = round((khan / len(totalvotes)) * 100, 3)\n",
    "        elif row[2] == \"Correy\":\n",
    "            correy = correy + 1\n",
    "            correy_percent_won = round((correy / len(totalvotes)) * 100, 3)\n",
    "        elif row[2] == \"Li\":\n",
    "            li = li + 1\n",
    "            li_percent_won = round((li / len(totalvotes)) * 100, 3)            \n",
    "        elif row[2] == \"O'Tooley\":\n",
    "            otooley = otooley + 1\n",
    "            otooley_percent_won = round((otooley / len(totalvotes)) * 100, 3)            \n",
    "\n",
    "#create an integer for total votes\n",
    "total_votescasted = len(totalvotes)\n",
    "print(total_votescasted)"
   ]
  },
  {
   "cell_type": "code",
   "execution_count": 28,
   "metadata": {},
   "outputs": [
    {
     "name": "stdout",
     "output_type": "stream",
     "text": [
      "Election Results\n",
      "-----------------------------\n",
      "Total Votes: 3521001\n",
      "-----------------------------\n",
      "Khan: 63.0% (2218231)\n",
      "Correy: 20.0% (704200)\n",
      "Li: 14.0% (492940)\n",
      "O'Tooley: 3.0% (105630)\n",
      "-----------------------------\n",
      "Winner: Khan\n",
      "-----------------------------\n"
     ]
    }
   ],
   "source": [
    "print(\"Election Results\")\n",
    "print(\"-----------------------------\")\n",
    "print(f\"Total Votes: {total_votescasted}\")\n",
    "print(\"-----------------------------\")\n",
    "print(f\"Khan: {khan_percent_won}% ({khan})\")\n",
    "print(f\"Correy: {correy_percent_won}% ({correy})\")\n",
    "print(f\"Li: {li_percent_won}% ({li})\")\n",
    "print(f\"O'Tooley: {otooley_percent_won}% ({otooley})\")\n",
    "print(\"-----------------------------\")\n",
    "print(\"Winner: Khan\")\n",
    "print(\"-----------------------------\")"
   ]
  },
  {
   "cell_type": "code",
   "execution_count": 33,
   "metadata": {},
   "outputs": [],
   "source": [
    "#Print out to output txt file\n",
    "pypoll_path = os.path.join(\"pypoll_output.txt\")\n",
    "with open(pypoll_path, 'w', newline='') as pypoll_file:\n",
    "\n",
    "    print(\"Election Results\",file=pypoll_file)\n",
    "    print(\"-----------------------------\",file=pypoll_file)\n",
    "    print(f\"Total Votes: {total_votescasted}\",file=pypoll_file)\n",
    "    print(\"-----------------------------\",file=pypoll_file)\n",
    "    print(f\"Khan: {khan_percent_won}% ({khan})\",file=pypoll_file)\n",
    "    print(f\"Correy: {correy_percent_won}% ({correy})\",file=pypoll_file)\n",
    "    print(f\"Li: {li_percent_won}% ({li})\",file=pypoll_file)\n",
    "    print(f\"O'Tooley: {otooley_percent_won}% ({otooley})\",file=pypoll_file)\n",
    "    print(\"-----------------------------\",file=pypoll_file)\n",
    "    print(\"Winner: Khan\",file=pypoll_file)\n",
    "    print(\"-----------------------------\",file=pypoll_file)\n",
    "\n",
    "csvfile.close()"
   ]
  }
 ],
 "metadata": {
  "kernelspec": {
   "display_name": "Python 3",
   "language": "python",
   "name": "python3"
  },
  "language_info": {
   "codemirror_mode": {
    "name": "ipython",
    "version": 3
   },
   "file_extension": ".py",
   "mimetype": "text/x-python",
   "name": "python",
   "nbconvert_exporter": "python",
   "pygments_lexer": "ipython3",
   "version": "3.7.6"
  }
 },
 "nbformat": 4,
 "nbformat_minor": 4
}
