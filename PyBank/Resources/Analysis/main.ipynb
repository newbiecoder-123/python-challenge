{
 "cells": [
  {
   "cell_type": "code",
   "execution_count": 2,
   "metadata": {},
   "outputs": [
    {
     "data": {
      "text/plain": [
       "'C:\\\\Users\\\\nghia\\\\python-challenge\\\\PyBank\\\\Resources\\\\Analysis'"
      ]
     },
     "execution_count": 2,
     "metadata": {},
     "output_type": "execute_result"
    }
   ],
   "source": [
    "pwd"
   ]
  },
  {
   "cell_type": "code",
   "execution_count": 3,
   "metadata": {},
   "outputs": [
    {
     "data": {
      "text/plain": [
       "'..\\\\budget_data.csv'"
      ]
     },
     "execution_count": 3,
     "metadata": {},
     "output_type": "execute_result"
    }
   ],
   "source": [
    "#First import the os module\n",
    "#This will create file paths \n",
    "#Use module for reading CSV files\n",
    "import os\n",
    "import csv\n",
    "\n",
    "budget_csvpath = os.path.join('..', 'budget_data.csv')\n",
    "budget_csvpath"
   ]
  },
  {
   "cell_type": "code",
   "execution_count": 37,
   "metadata": {},
   "outputs": [
    {
     "name": "stdout",
     "output_type": "stream",
     "text": [
      "<_csv.reader object at 0x0000029E1FA76BA8>\n",
      "CSV Header: ['Date', 'Profit/Losses']\n"
     ]
    }
   ],
   "source": [
    "# create empty variables to store/track data\n",
    "totalmonths = [] #this will store months into a list\n",
    "totalamt = [] #this will store all the profits and losses into a list\n",
    "monthly_change_profit = [] #this will store the monthly change in profits\n",
    "\n",
    "monthly_change = 0\n",
    "monthly_change_total = 0\n",
    "initial_profit_counter = 0 \n",
    "\n",
    "#Open/read the csv file\n",
    "with open(budget_csvpath, newline='', encoding=\"utf-8\") as csvfile:\n",
    "\n",
    "    #store as a csv\n",
    "    budget_csvfile = csv.reader(csvfile, delimiter=',')\n",
    "    \n",
    "    print(budget_csvfile)\n",
    "    \n",
    "    # read the header row first\n",
    "    budget_header = next(budget_csvfile)\n",
    "    print(f\"CSV Header: {budget_header}\")\n",
    "    \n",
    "    # need to create a loop to count the number of months\n",
    "    # use the append function \n",
    "    for row in budget_csvfile:\n",
    "\n",
    "            #start adding months to a variable and eventually count them up \n",
    "            totalmonths.append(row[0])\n",
    "            sum_months = len(totalmonths)\n",
    "\n",
    "            #put all the profits and losses into one variable\n",
    "            totalamt.append(float(row[1]))\n",
    "            \n",
    "            #calculate change in profits on a monthly basis\n",
    "            #append monthly changes empty list to find max/min\n",
    "            profit_for_month = int(row[1])\n",
    "            monthly_change = float(profit_for_month) - float(initial_profit_counter)\n",
    "            monthly_change_total = monthly_change_total + monthly_change\n",
    "            \n",
    "            #reset to previous month's change in profits to continue calculating differences in the loop\n",
    "            initial_profit_counter = int(row[1])\n",
    "            \n",
    "            #add monthly change to empty list to keep track\n",
    "            monthly_change_profit.append(monthly_change)\n",
    "            \n",
    "            # find the greatest increase in profits and accompanying month\n",
    "            max_profit = max(monthly_change_profit)\n",
    "            max_index = monthly_change_profit.index(max_profit)\n",
    "            \n",
    "            # find the greatest decrease in profits and accompanying month\n",
    "            min_profit = min(monthly_change_profit)\n",
    "            min_index = monthly_change_profit.index(min_profit)\n",
    "            \n",
    "            #calculate average change \n",
    "            avg_change_profit = round (monthly_change_total / sum_months)\n",
    "            \n",
    "            #calculate the total amount\n",
    "            sum_amt = sum(totalamt)"
   ]
  },
  {
   "cell_type": "code",
   "execution_count": 39,
   "metadata": {},
   "outputs": [
    {
     "name": "stdout",
     "output_type": "stream",
     "text": [
      "86\n",
      "38382578.0\n",
      "7803.476744186047\n",
      "1926159.0 Feb-2012\n",
      "-2196167.0 Sep-2013\n"
     ]
    }
   ],
   "source": [
    "#Print the totals\n",
    "print(sum_months)\n",
    "print(sum_amt)\n",
    "print(avg_change_profit)\n",
    "print(max_profit, totalmonths[max_index])\n",
    "print(min_profit, totalmonths[min_index])"
   ]
  },
  {
   "cell_type": "code",
   "execution_count": 40,
   "metadata": {},
   "outputs": [
    {
     "name": "stdout",
     "output_type": "stream",
     "text": [
      "Financial Analysis\n",
      "------------------------------------\n",
      "Total Months: 86\n",
      "Total: $38382578.0\n",
      "Average Change: $7803.476744186047\n",
      "Greatest Increase in Profits: Feb-2012 ($1926159.0)\n",
      "Greatest Decrease in Profits: Sep-2013 ($-2196167.0)\n"
     ]
    }
   ],
   "source": [
    "#print report\n",
    "print(\"Financial Analysis\")\n",
    "print(\"------------------------------------\")\n",
    "print(f\"Total Months: {sum_months}\")\n",
    "print(f\"Total: ${sum_amt}\")\n",
    "print(f\"Average Change: ${avg_change_profit}\")\n",
    "print(f\"Greatest Increase in Profits: {totalmonths[max_index]} (${max_profit})\")\n",
    "print(f\"Greatest Decrease in Profits: {totalmonths[min_index]} (${min_profit})\")"
   ]
  },
  {
   "cell_type": "code",
   "execution_count": 41,
   "metadata": {},
   "outputs": [],
   "source": [
    "#print to a new file\n",
    "\n",
    "pybank_path = os.path.join(\"pybank_output.txt\")\n",
    "with open(pybank_path, 'w', newline='') as pybank_file:\n",
    "\n",
    "    print(\"Financial Analysis\",file=pybank_file)\n",
    "    print(\"------------------------------------\",file=pybank_file)\n",
    "    print(f\"Total Months: {sum_months}\",file=pybank_file)\n",
    "    print(f\"Total: ${sum_amt}\",file=pybank_file)\n",
    "    print(f\"Average Change: ${avg_change_profit}\",file=pybank_file)\n",
    "    print(f\"Greatest Increase in Profits: {totalmonths[max_index]} (${max_profit})\",file=pybank_file)\n",
    "    print(f\"Greatest Decrease in Profits: {totalmonths[min_index]} (${min_profit})\",file=pybank_file)\n",
    "\n",
    "csvfile.close()"
   ]
  }
 ],
 "metadata": {
  "kernelspec": {
   "display_name": "Python 3",
   "language": "python",
   "name": "python3"
  },
  "language_info": {
   "codemirror_mode": {
    "name": "ipython",
    "version": 3
   },
   "file_extension": ".py",
   "mimetype": "text/x-python",
   "name": "python",
   "nbconvert_exporter": "python",
   "pygments_lexer": "ipython3",
   "version": "3.7.6"
  }
 },
 "nbformat": 4,
 "nbformat_minor": 4
}
