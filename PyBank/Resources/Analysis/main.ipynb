{
 "cells": [
  {
   "cell_type": "code",
   "execution_count": 2,
   "metadata": {},
   "outputs": [
    {
     "data": {
      "text/plain": [
       "'C:\\\\Users\\\\nghia\\\\python-challenge\\\\PyBank\\\\Resources\\\\Analysis'"
      ]
     },
     "execution_count": 2,
     "metadata": {},
     "output_type": "execute_result"
    }
   ],
   "source": [
    "pwd"
   ]
  },
  {
   "cell_type": "code",
   "execution_count": 22,
   "metadata": {},
   "outputs": [
    {
     "data": {
      "text/plain": [
       "'..\\\\budget_data.csv'"
      ]
     },
     "execution_count": 22,
     "metadata": {},
     "output_type": "execute_result"
    }
   ],
   "source": [
    "#First import the os module\n",
    "#This will create file paths \n",
    "#Use module for reading CSV files\n",
    "import os\n",
    "import csv\n",
    "\n",
    "budget_csvpath = os.path.join('..', 'budget_data.csv')\n",
    "budget_csvpath"
   ]
  },
  {
   "cell_type": "code",
   "execution_count": 23,
   "metadata": {},
   "outputs": [
    {
     "name": "stdout",
     "output_type": "stream",
     "text": [
      "<_csv.reader object at 0x0000021C1B1993C8>\n",
      "CSV Header: ['Date', 'Profit/Losses']\n"
     ]
    }
   ],
   "source": [
    "# create empty variables to store/track data\n",
    "totalmonths = [] #this will store months into a list\n",
    "totalamt = [] #this will store all the profits and losses into a list\n",
    "\n",
    "#Open/read the csv file\n",
    "with open(budget_csvpath, newline='', encoding=\"utf-8\") as csvfile:\n",
    "\n",
    "    #store as a csv\n",
    "    budget_csvfile = csv.reader(csvfile, delimiter=',')\n",
    "    \n",
    "    print(budget_csvfile)\n",
    "    \n",
    "    # read the header row first\n",
    "    budget_header = next(budget_csvfile)\n",
    "    print(f\"CSV Header: {budget_header}\")\n",
    "\n",
    "    # need to create a loop to count the number of months\n",
    "    # use the append function \n",
    "    for row in budget_csvfile:\n",
    "\n",
    "            #start adding months to a variable and eventually count them up \n",
    "            #rows are \"columns\" in excel, so start counting from \"column 1\" for months\n",
    "            totalmonths.append(row[0])\n",
    "\n",
    "            #put all the profits and losses into one variable\n",
    "            #rows are \"columns\" in excel, so start counting from \"column 2\" where profits/losses are stored\n",
    "            #create integers\n",
    "            totalamt.append(float(row[1]))"
   ]
  },
  {
   "cell_type": "code",
   "execution_count": 24,
   "metadata": {},
   "outputs": [
    {
     "name": "stdout",
     "output_type": "stream",
     "text": [
      "86\n"
     ]
    }
   ],
   "source": [
    "# generate total months in the file using len function to count the length of the list\n",
    "sum_months = len(totalmonths)\n",
    "print(sum_months)"
   ]
  },
  {
   "cell_type": "code",
   "execution_count": 25,
   "metadata": {},
   "outputs": [
    {
     "name": "stdout",
     "output_type": "stream",
     "text": [
      "38382578.0\n"
     ]
    }
   ],
   "source": [
    "# sum the total profits and losses using the sum function\n",
    "sum_amt = sum(totalamt)\n",
    "print(sum_amt)"
   ]
  },
  {
   "cell_type": "code",
   "execution_count": 26,
   "metadata": {},
   "outputs": [
    {
     "name": "stdout",
     "output_type": "stream",
     "text": [
      "446309\n"
     ]
    }
   ],
   "source": [
    "# create average change \n",
    "avg_change = round (sum_amt / sum_months)\n",
    "print(avg_change)"
   ]
  },
  {
   "cell_type": "code",
   "execution_count": 29,
   "metadata": {},
   "outputs": [
    {
     "name": "stdout",
     "output_type": "stream",
     "text": [
      "1170593.0\n",
      "-1196225.0\n"
     ]
    }
   ],
   "source": [
    "# find the greatest increase in profits\n",
    "max_profit = max(totalamt)\n",
    "print(f\"{max_profit}\")\n",
    "\n",
    "# find the greatest decrease in profits\n",
    "min_profit = min(totalamt)\n",
    "print(f\"{min_profit}\")"
   ]
  },
  {
   "cell_type": "code",
   "execution_count": 34,
   "metadata": {},
   "outputs": [
    {
     "name": "stdout",
     "output_type": "stream",
     "text": [
      "Feb-2012\n",
      "Sep-2013\n"
     ]
    }
   ],
   "source": [
    "# find the max profit and min profit dates by FIRST finding the max and min profit values\n",
    "# create indices\n",
    "max_index = totalamt.index(max_profit)\n",
    "min_index = totalamt.index(min_profit)\n",
    "\n",
    "# using the indices, find the max and min dates\n",
    "print(totalmonths[max_index])\n",
    "print(totalmonths[min_index])"
   ]
  },
  {
   "cell_type": "code",
   "execution_count": 52,
   "metadata": {},
   "outputs": [
    {
     "name": "stdout",
     "output_type": "stream",
     "text": [
      "Financial Analysis\n",
      "------------------------------------\n",
      "Total Months: 86\n",
      "Total: $38382578.0\n",
      "Average Change: $446309\n",
      "Greatest Increase in Profits: Feb-2012 ($1170593.0)\n",
      "Greatest Decrease in Profits: Sep-2013 ($-1196225.0)\n"
     ]
    }
   ],
   "source": [
    "#print report\n",
    "print(\"Financial Analysis\")\n",
    "print(\"------------------------------------\")\n",
    "print(f\"Total Months: {sum_months}\")\n",
    "print(f\"Total: ${sum_amt}\")\n",
    "print(f\"Average Change: ${avg_change}\")\n",
    "print(f\"Greatest Increase in Profits: {totalmonths[max_index]} (${max_profit})\")\n",
    "print(f\"Greatest Decrease in Profits: {totalmonths[min_index]} (${min_profit})\")"
   ]
  },
  {
   "cell_type": "code",
   "execution_count": 53,
   "metadata": {},
   "outputs": [],
   "source": [
    "#print to a new file\n",
    "\n",
    "pybank_path = os.path.join(\"pybank_output.txt\")\n",
    "with open(pybank_path, 'w', newline='') as pybank_file:\n",
    "\n",
    "    print(\"Financial Analysis\",file=pybank_file)\n",
    "    print(\"------------------------------------\",file=pybank_file)\n",
    "    print(f\"Total Months: {sum_months}\",file=pybank_file)\n",
    "    print(f\"Total: ${sum_amt}\",file=pybank_file)\n",
    "    print(f\"Average Change: ${avg_change}\",file=pybank_file)\n",
    "    print(f\"Greatest Increase in Profits: {totalmonths[max_index]} (${max_profit})\",file=pybank_file)\n",
    "    print(f\"Greatest Decrease in Profits: {totalmonths[min_index]} (${min_profit})\",file=pybank_file)\n",
    "\n",
    "csvfile.close()"
   ]
  },
  {
   "cell_type": "code",
   "execution_count": null,
   "metadata": {},
   "outputs": [],
   "source": []
  }
 ],
 "metadata": {
  "kernelspec": {
   "display_name": "Python 3",
   "language": "python",
   "name": "python3"
  },
  "language_info": {
   "codemirror_mode": {
    "name": "ipython",
    "version": 3
   },
   "file_extension": ".py",
   "mimetype": "text/x-python",
   "name": "python",
   "nbconvert_exporter": "python",
   "pygments_lexer": "ipython3",
   "version": "3.7.6"
  }
 },
 "nbformat": 4,
 "nbformat_minor": 4
}
